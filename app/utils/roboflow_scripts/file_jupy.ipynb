!pip install roboflow

from roboflow import Roboflow
rf = Roboflow(api_key="sv9ITpmstUK9bDsAjk8x")
project = rf.workspace("test-n0rkj").project("bottles-ca5xq")
version = project.version(1)
dataset = version.download("yolov8")

!pip install roboflow

from roboflow import Roboflow
rf = Roboflow(api_key="sv9ITpmstUK9bDsAjk8x")
project = rf.workspace("naviyn").project("fyp-gimtb")
version = project.version(3)
dataset = version.download("yolov8")

!pip install roboflow

from roboflow import Roboflow
rf = Roboflow(api_key="sv9ITpmstUK9bDsAjk8x")
project = rf.workspace("jarekmasterdegree").project("master-degree-4utul")
version = project.version(1)
dataset = version.download("yolov8")